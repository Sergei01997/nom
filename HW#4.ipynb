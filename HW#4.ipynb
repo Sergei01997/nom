{
 "cells": [
  {
   "cell_type": "code",
   "execution_count": 1,
   "id": "f81ac204",
   "metadata": {},
   "outputs": [
    {
     "name": "stdout",
     "output_type": "stream",
     "text": [
      "['Robin', 'Singh'] , ['I', 'love', 'arrays', 'they', 'are', 'my', 'favorite']\n"
     ]
    }
   ],
   "source": [
    "a=\"Robin Singh\"\n",
    "a=a.split()\n",
    "c=\"I love arrays they are my favorite\"\n",
    "c=c.split()\n",
    "print(a,\",\",c)"
   ]
  },
  {
   "cell_type": "code",
   "execution_count": 2,
   "id": "d4080292",
   "metadata": {},
   "outputs": [
    {
     "name": "stdout",
     "output_type": "stream",
     "text": [
      "Привет ivan ivanou!,Добро пожаловать в minsk,belarus\n"
     ]
    }
   ],
   "source": [
    "name=\"ivan ivanou\"\n",
    "gorod=\"minsk,belarus\"\n",
    "print(\"Привет {name}!,Добро пожаловать в {mes}\".format(name=name,mes=gorod))"
   ]
  },
  {
   "cell_type": "code",
   "execution_count": 3,
   "id": "87d658f6",
   "metadata": {},
   "outputs": [
    {
     "name": "stdout",
     "output_type": "stream",
     "text": [
      "I love arrays they are my favorite\n"
     ]
    }
   ],
   "source": [
    "f=['I', 'love', 'arrays', 'they', 'are', 'my', 'favorite']\n",
    "f=\" \".join(f)\n",
    "print(f)"
   ]
  },
  {
   "cell_type": "code",
   "execution_count": 4,
   "id": "89be2302",
   "metadata": {},
   "outputs": [
    {
     "name": "stdout",
     "output_type": "stream",
     "text": [
      "[1, 2, 3, 4, 5, 6, 7, 9]\n"
     ]
    }
   ],
   "source": [
    "fr=[1,2,3,4,5,6,7,8,9]\n",
    "fr[4]=5\n",
    "del fr[7]\n",
    "print(fr)"
   ]
  },
  {
   "cell_type": "code",
   "execution_count": 5,
   "id": "82efe579",
   "metadata": {},
   "outputs": [
    {
     "name": "stdout",
     "output_type": "stream",
     "text": [
      "('a', 1)\n",
      "('b', 2)\n",
      "('c', 3)\n",
      "('d', 4)\n",
      "('e', 5)\n"
     ]
    }
   ],
   "source": [
    "a={\"a\":1,\"b\":2,\"c\":3}\n",
    "b={\"c\":3,\"d\":4,\"e\":5}\n",
    "a.update(b)\n",
    "for k in a.items():\n",
    " print(k)\n"
   ]
  },
  {
   "cell_type": "code",
   "execution_count": 6,
   "id": "a1b277ae",
   "metadata": {},
   "outputs": [
    {
     "name": "stdout",
     "output_type": "stream",
     "text": [
      "5\n"
     ]
    }
   ],
   "source": [
    "a = [1, 5, 2, 9, 2, 9, 1]\n",
    "h=min(a,key=a.count)\n",
    "print(h)"
   ]
  },
  {
   "cell_type": "code",
   "execution_count": 7,
   "id": "32fff15e",
   "metadata": {},
   "outputs": [
    {
     "name": "stdout",
     "output_type": "stream",
     "text": [
      "giuhuihiu vfvf,nhjbhb 25\n"
     ]
    }
   ],
   "source": [
    "h=\"vfvf\"\n",
    "j=25\n",
    "k=f\"giuhuihiu {h},nhjbhb {j}\"\n",
    "print(k)"
   ]
  }
 ],
 "metadata": {
  "kernelspec": {
   "display_name": "Python 3 (ipykernel)",
   "language": "python",
   "name": "python3"
  },
  "language_info": {
   "codemirror_mode": {
    "name": "ipython",
    "version": 3
   },
   "file_extension": ".py",
   "mimetype": "text/x-python",
   "name": "python",
   "nbconvert_exporter": "python",
   "pygments_lexer": "ipython3",
   "version": "3.8.10"
  }
 },
 "nbformat": 4,
 "nbformat_minor": 5
}
