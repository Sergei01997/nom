{
 "cells": [
  {
   "cell_type": "code",
   "execution_count": 1,
   "id": "e1e0bbba",
   "metadata": {},
   "outputs": [
    {
     "name": "stdout",
     "output_type": "stream",
     "text": [
      "35.0 , 7.4 , 1.0 , 4.0 , nonoyesyesyes\n"
     ]
    }
   ],
   "source": [
    "var_int=10\n",
    "var_float=8.4\n",
    "var_str=\"no\"\n",
    "big_int=var_int*3.5\n",
    "var_float=var_float-1\n",
    "j=var_int//var_float\n",
    "k=big_int//var_float\n",
    "var=\"noyesyesyes\"\n",
    "var_str=var_str+var\n",
    "print(big_int,\",\",var_float,\",\",j,\",\",k,\",\",var_str)"
   ]
  },
  {
   "cell_type": "code",
   "execution_count": 2,
   "id": "e32b287b",
   "metadata": {},
   "outputs": [
    {
     "name": "stdout",
     "output_type": "stream",
     "text": [
      "g u h h 19\n"
     ]
    }
   ],
   "source": [
    "hom=\"gb5hvjkhhjblihhihiu\"\n",
    "kol=len(hom)\n",
    "k=hom[0]\n",
    "l=hom[-1:]\n",
    "p=hom[3:4]\n",
    "m=hom[-3]\n",
    "print(k,l,p,m,kol)"
   ]
  },
  {
   "cell_type": "code",
   "execution_count": 3,
   "id": "74c589bf",
   "metadata": {},
   "outputs": [
    {
     "name": "stdout",
     "output_type": "stream",
     "text": [
      "657777669 , 32 , 6465 , 67608566803 , 63290898656456465988090966777756\n"
     ]
    }
   ],
   "source": [
    "oi='65777766909088956465465689809236'\n",
    "k=oi[0:9]#первые 8 символов (отсчёт начинаеттс)\n",
    "ho=len(oi)#длина для выяснения центра \n",
    "l=oi[16:20]# 4 символа с центра \n",
    "gg=oi[::3]#выделения каждого 3-го символа\n",
    "revers=oi[::-1]#перевернутая строка\n",
    "\n",
    "print(k,\",\",ho,\",\",l,\",\",gg,\",\",revers)"
   ]
  },
  {
   "cell_type": "code",
   "execution_count": 4,
   "id": "1c426602",
   "metadata": {},
   "outputs": [
    {
     "name": "stdout",
     "output_type": "stream",
     "text": [
      "my name is sergei\n"
     ]
    }
   ],
   "source": [
    "name=\"sergei\"\n",
    "print(f\"my name is {name}\")# использовал F-stings\n"
   ]
  },
  {
   "cell_type": "code",
   "execution_count": 5,
   "id": "b01e3430",
   "metadata": {},
   "outputs": [
    {
     "name": "stdout",
     "output_type": "stream",
     "text": [
      "6 , 3 , <re.Match object; span=(0, 5), match='hello'> , False\n"
     ]
    }
   ],
   "source": [
    "import re\n",
    "test=\"hello world\"\n",
    "j=test.find(\"w\")\n",
    "cou=test.count(\"l\")\n",
    "star=re.match(\"hello\",test)\n",
    "end=test.endswith(\"qwe\")\n",
    "print(j,\",\",cou,\",\",star,\",\",end)"
   ]
  }
 ],
 "metadata": {
  "kernelspec": {
   "display_name": "Python 3 (ipykernel)",
   "language": "python",
   "name": "python3"
  },
  "language_info": {
   "codemirror_mode": {
    "name": "ipython",
    "version": 3
   },
   "file_extension": ".py",
   "mimetype": "text/x-python",
   "name": "python",
   "nbconvert_exporter": "python",
   "pygments_lexer": "ipython3",
   "version": "3.8.10"
  }
 },
 "nbformat": 4,
 "nbformat_minor": 5
}
