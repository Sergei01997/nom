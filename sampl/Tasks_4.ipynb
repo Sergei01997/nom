{
 "cells": [
  {
   "cell_type": "code",
   "execution_count": 1,
   "id": "7bc9b9e4",
   "metadata": {},
   "outputs": [
    {
     "name": "stdout",
     "output_type": "stream",
     "text": [
      "[1, 2, 3, 4, 5] , [6, 7, 8, 9, 10]\n"
     ]
    }
   ],
   "source": [
    "a=[1,2,3,4,5]#cоздать 2 любых списка и связать с переменной\n",
    "b=[6,7,8,9,10]\n",
    "print(a,\",\",b)"
   ]
  },
  {
   "cell_type": "code",
   "execution_count": 2,
   "id": "d64151e8",
   "metadata": {},
   "outputs": [
    {
     "name": "stdout",
     "output_type": "stream",
     "text": [
      "2\n"
     ]
    }
   ],
   "source": [
    "a=[1,2,3,4,5]#извлек 2-ой элемент\n",
    "b=a[1]\n",
    "print(b)"
   ]
  },
  {
   "cell_type": "code",
   "execution_count": 3,
   "id": "95c50847",
   "metadata": {},
   "outputs": [
    {
     "name": "stdout",
     "output_type": "stream",
     "text": [
      "10\n"
     ]
    }
   ],
   "source": [
    "b=[6,7,8,9,10]#ищвлек последний элемент\n",
    "c=b[-1]\n",
    "print(c)"
   ]
  },
  {
   "cell_type": "code",
   "execution_count": 4,
   "id": "bf28e1f8",
   "metadata": {},
   "outputs": [
    {
     "name": "stdout",
     "output_type": "stream",
     "text": [
      "[4, 5, 6, 7]\n"
     ]
    }
   ],
   "source": [
    "a=[1, 2, 3, 4, 5]#соединил два списка в один\n",
    "b=[6,7,8,9,10]\n",
    "c=a+b\n",
    "bo=len(c)#извлек по 2 элемента с уже соединенного списка,использовал 'len',для нахождения середины что бы извлечь по 2 элемента \n",
    "by=c[3:7]\n",
    "print(by)\n"
   ]
  },
  {
   "cell_type": "code",
   "execution_count": 5,
   "id": "0295c915",
   "metadata": {},
   "outputs": [
    {
     "name": "stdout",
     "output_type": "stream",
     "text": [
      "[1, 2, 3, 4, 5, 6, 7]\n"
     ]
    }
   ],
   "source": [
    "a =[1,2,3,4,5]#добавил 2 новых элемента через метод \"extend\"\n",
    "b=[6,7]\n",
    "a.extend(b)\n",
    "print(a)"
   ]
  },
  {
   "cell_type": "code",
   "execution_count": 6,
   "id": "957120ba",
   "metadata": {},
   "outputs": [
    {
     "name": "stdout",
     "output_type": "stream",
     "text": [
      "[1, 2, 3, 5, 8, 13]\n"
     ]
    }
   ],
   "source": [
    "a=[1,1,2,3,5,8,13,21,34,55,89]#вернул список из общих элементов ,при помощи функции 'set'\n",
    "b=[1,2,3,4,5,6,7,8,9,10,11,12,13]\n",
    "s=list(set(a)&set(b))\n",
    "print(s)\n"
   ]
  },
  {
   "cell_type": "code",
   "execution_count": 7,
   "id": "78567f0d",
   "metadata": {},
   "outputs": [
    {
     "name": "stdout",
     "output_type": "stream",
     "text": [
      "[1, 2, 3, 4, 5, 6, 7, 8]\n"
     ]
    }
   ],
   "source": [
    "a=[1,2,3,4,3,2,5,1,4,6,7,1,8,2,3]#вернул уникальные значения ,использовал функию \"set\"\n",
    "b=list(set(a))\n",
    "print(b)"
   ]
  },
  {
   "cell_type": "code",
   "execution_count": 8,
   "id": "7ce4d3e4",
   "metadata": {},
   "outputs": [
    {
     "name": "stdout",
     "output_type": "stream",
     "text": [
      "true\n"
     ]
    }
   ],
   "source": [
    "a=input()#\n",
    "b=input()\n",
    "if  a==b and b==a:\n",
    "    print(\"true\")\n",
    "elif b>a and a<b:\n",
    "    print(\"true\")\n",
    "elif a>b and b>a:\n",
    "    print(falsh)    \n",
    "else:\n",
    "    print(\"falsh\")"
   ]
  },
  {
   "cell_type": "code",
   "execution_count": 9,
   "id": "a3080931",
   "metadata": {},
   "outputs": [
    {
     "name": "stdout",
     "output_type": "stream",
     "text": [
      "true\n"
     ]
    }
   ],
   "source": [
    "a=input()#\n",
    "b=input()\n",
    "if a>b or a==b:\n",
    "    print(\"true\")\n",
    "else:\n",
    "    print(\"falsh\")\n"
   ]
  },
  {
   "cell_type": "code",
   "execution_count": 10,
   "id": "ba30eab3",
   "metadata": {},
   "outputs": [
    {
     "name": "stdout",
     "output_type": "stream",
     "text": [
      "falsh\n"
     ]
    }
   ],
   "source": [
    "a=input()#\n",
    "if a==\"ghbdtn\" or a==\"привет\":\n",
    "    print(\"true\")\n",
    "else:\n",
    "    print(\"falsh\")"
   ]
  },
  {
   "cell_type": "code",
   "execution_count": 11,
   "id": "312cd30e",
   "metadata": {},
   "outputs": [
    {
     "name": "stdout",
     "output_type": "stream",
     "text": [
      "{'1a': 10, '2a': 17, '3a': 25, '4a': 10, '5a': 27, '6a': 13, '7a': 10, '8a': 18, '9a': 12, '10a': 15}\n"
     ]
    }
   ],
   "source": [
    "shool={'1a':10,'2a':17,'3a':25,'4a':10,'5a':27,'6a':13,'7a':10,'8a':18,'9a':12,'10a':15}#создал словарь\n",
    "print(shool)"
   ]
  },
  {
   "cell_type": "code",
   "execution_count": 12,
   "id": "cac840a5",
   "metadata": {},
   "outputs": [
    {
     "name": "stdout",
     "output_type": "stream",
     "text": [
      "10\n"
     ]
    }
   ],
   "source": [
    "shool={'1a':10,'2a':17,'3a':25,'4a':10,'5a':27,'6a':13,'7a':10,'8a':18,'9a':12,'10a':15}#выделил ключ из словаря\n",
    "s=shool['4a']\n",
    "print(s)"
   ]
  },
  {
   "cell_type": "code",
   "execution_count": 14,
   "id": "e4a935e7",
   "metadata": {},
   "outputs": [
    {
     "name": "stdout",
     "output_type": "stream",
     "text": [
      "{'1a': 10, '2a': 3, '3a': 25, '5a': 27, '6a': 13, '7a': 10, '8a': 18, '9a': 5, '10a': 15, '11a': 12, '12a': 25}\n"
     ]
    }
   ],
   "source": [
    "shool={'1a':10,'2a':17,'3a':25,'4a':10,'5a':27,'6a':13,'7a':10,'8a':18,'9a':12,'10a':15}\n",
    "shool['4a']=15#изменил в словаре данные ключа три раза \n",
    "shool['2a']=3\n",
    "shool['9a']=5\n",
    "shool[\"11a\"]=12#добавил в словарь 2 новых ключа\n",
    "shool[\"12a\"]=25#\n",
    "del shool[\"4a\"]#удалил в словаре 1 ключ \n",
    "print(shool)"
   ]
  },
  {
   "cell_type": "code",
   "execution_count": null,
   "id": "defd9d7a",
   "metadata": {},
   "outputs": [],
   "source": []
  }
 ],
 "metadata": {
  "kernelspec": {
   "display_name": "Python 3 (ipykernel)",
   "language": "python",
   "name": "python3"
  },
  "language_info": {
   "codemirror_mode": {
    "name": "ipython",
    "version": 3
   },
   "file_extension": ".py",
   "mimetype": "text/x-python",
   "name": "python",
   "nbconvert_exporter": "python",
   "pygments_lexer": "ipython3",
   "version": "3.8.10"
  }
 },
 "nbformat": 4,
 "nbformat_minor": 5
}
