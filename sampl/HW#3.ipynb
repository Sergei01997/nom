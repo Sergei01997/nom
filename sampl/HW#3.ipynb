{
 "cells": [
  {
   "cell_type": "code",
   "execution_count": 5,
   "id": "fc1b7545",
   "metadata": {},
   "outputs": [
    {
     "name": "stdout",
     "output_type": "stream",
     "text": [
      "www.my_site.com/about\n"
     ]
    }
   ],
   "source": [
    " import re\n",
    "web=\"www.my_site.com#about\"\n",
    "don=re.sub(r\"#\",\"/\",web)\n",
    "print(don)\n",
    "    "
   ]
  },
  {
   "cell_type": "code",
   "execution_count": 6,
   "id": "a26c4698",
   "metadata": {},
   "outputs": [
    {
     "name": "stdout",
     "output_type": "stream",
     "text": [
      "gtring\n"
     ]
    }
   ],
   "source": [
    "dop=input(\"Введите слово:\")\n",
    "jo=dop +\"ing\"\n",
    "print(jo)"
   ]
  },
  {
   "cell_type": "code",
   "execution_count": 7,
   "id": "48e49c4e",
   "metadata": {},
   "outputs": [
    {
     "name": "stdout",
     "output_type": "stream",
     "text": [
      "Ivanov Ivan\n"
     ]
    }
   ],
   "source": [
    "ho=\"Ivan Ivanov\"\n",
    "hp=ho.split()\n",
    "bo=hp[::-1]\n",
    "de=\" \".join(bo)\n",
    "print(de)\n"
   ]
  },
  {
   "cell_type": "code",
   "execution_count": 9,
   "id": "873b9091",
   "metadata": {},
   "outputs": [
    {
     "name": "stdout",
     "output_type": "stream",
     "text": [
      "gtrgrtg\n"
     ]
    }
   ],
   "source": [
    "ho=input(\"введите слово:\")\n",
    "ho2=ho.strip() \n",
    "print(ho2)"
   ]
  }
 ],
 "metadata": {
  "kernelspec": {
   "display_name": "Python 3 (ipykernel)",
   "language": "python",
   "name": "python3"
  },
  "language_info": {
   "codemirror_mode": {
    "name": "ipython",
    "version": 3
   },
   "file_extension": ".py",
   "mimetype": "text/x-python",
   "name": "python",
   "nbconvert_exporter": "python",
   "pygments_lexer": "ipython3",
   "version": "3.8.10"
  }
 },
 "nbformat": 4,
 "nbformat_minor": 5
}
